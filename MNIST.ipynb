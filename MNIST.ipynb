{
 "cells": [
  {
   "cell_type": "code",
   "execution_count": null,
   "metadata": {},
   "outputs": [],
   "source": [
    "import torch.nn\n",
    "from torchvision import datasets, transforms\n",
    "from torchesn.nn import ESN\n",
    "import time"
   ]
  },
  {
   "cell_type": "code",
   "execution_count": null,
   "metadata": {},
   "outputs": [],
   "source": [
    "def Accuracy_Correct(y_pred, y_true):\n",
    "    labels = torch.argmax(y_pred, 1).type(y_pred.type())\n",
    "    correct = len((labels == y_true).nonzero())\n",
    "    return correct"
   ]
  },
  {
   "cell_type": "code",
   "execution_count": null,
   "metadata": {},
   "outputs": [],
   "source": [
    "def one_hot(y, output_dim):\n",
    "    onehot = torch.zeros(y.size(0), output_dim, device=y.device)\n",
    "\n",
    "    for i in range(output_dim):\n",
    "        onehot[y == i, i] = 1\n",
    "\n",
    "    return onehot"
   ]
  },
  {
   "cell_type": "code",
   "execution_count": null,
   "metadata": {},
   "outputs": [],
   "source": [
    "def reshape_batch(batch):\n",
    "    batch = batch.view(batch.size(0), batch.size(1), -1)\n",
    "    return batch.transpose(0, 1).transpose(0, 2)"
   ]
  },
  {
   "cell_type": "code",
   "execution_count": null,
   "metadata": {},
   "outputs": [],
   "source": [
    "device = torch.device('cpu')\n",
    "dtype = torch.float\n",
    "torch.set_default_dtype(dtype)\n",
    "loss_fcn = Accuracy_Correct"
   ]
  },
  {
   "cell_type": "code",
   "execution_count": null,
   "metadata": {},
   "outputs": [],
   "source": [
    "batch_size = 256  # Tune it according to your VRAM's size.\n",
    "input_size = 1\n",
    "hidden_size = 500\n",
    "output_size = 10\n",
    "washout_rate = 0.2"
   ]
  },
  {
   "cell_type": "code",
   "execution_count": null,
   "metadata": {},
   "outputs": [],
   "source": [
    "train_iter = torch.utils.data.DataLoader(\n",
    "        datasets.MNIST('./datasets', train=True, download=True,\n",
    "                       transform=transforms.Compose([\n",
    "                           transforms.ToTensor(),\n",
    "                           transforms.Normalize((0.1307,), (0.3081,))])),\n",
    "        batch_size=batch_size, shuffle=True, num_workers=1, pin_memory=True)"
   ]
  },
  {
   "cell_type": "code",
   "execution_count": null,
   "metadata": {},
   "outputs": [],
   "source": [
    "test_iter = torch.utils.data.DataLoader(\n",
    "        datasets.MNIST('./datasets', train=False,\n",
    "                       transform=transforms.Compose([\n",
    "                           transforms.ToTensor(),\n",
    "                           transforms.Normalize((0.1307,), (0.3081,))])),\n",
    "        batch_size=batch_size, shuffle=False, num_workers=1, pin_memory=True)"
   ]
  },
  {
   "cell_type": "code",
   "execution_count": null,
   "metadata": {},
   "outputs": [],
   "source": [
    "start = time.time()"
   ]
  },
  {
   "cell_type": "code",
   "execution_count": null,
   "metadata": {},
   "outputs": [],
   "source": [
    "# Training\n",
    "model = ESN(input_size, hidden_size, output_size, \n",
    "            output_steps='mean', readout_training='cholesky')\n",
    "model.to(device)"
   ]
  },
  {
   "cell_type": "code",
   "execution_count": null,
   "metadata": {},
   "outputs": [],
   "source": [
    "# Fit the model\n",
    "for batch in train_iter:\n",
    "    x, y = batch\n",
    "    x = x.to(device)\n",
    "    y = y.to(device)\n",
    "\n",
    "    x = reshape_batch(x)\n",
    "    target = one_hot(y, output_size)\n",
    "    washout_list = [int(washout_rate * x.size(0))] * x.size(1)\n",
    "\n",
    "    model(x, washout_list, None, target)\n",
    "    model.fit()"
   ]
  },
  {
   "cell_type": "code",
   "execution_count": null,
   "metadata": {},
   "outputs": [],
   "source": [
    "# Evaluate on training set\n",
    "tot_correct = 0\n",
    "tot_obs = 0\n",
    "\n",
    "for batch in train_iter:\n",
    "    x, y = batch\n",
    "    x = x.to(device)\n",
    "    y = y.to(device)\n",
    "\n",
    "    x = reshape_batch(x)\n",
    "    washout_list = [int(washout_rate * x.size(0))] * x.size(1)\n",
    "\n",
    "    output, hidden = model(x, washout_list)\n",
    "    tot_obs += x.size(1)\n",
    "    tot_correct += loss_fcn(output[-1], y.type(torch.get_default_dtype()))\n",
    "\n",
    "print(\"Training accuracy:\", tot_correct / tot_obs)"
   ]
  },
  {
   "cell_type": "code",
   "execution_count": null,
   "metadata": {},
   "outputs": [],
   "source": [
    "# Test\n",
    "for batch in test_iter:\n",
    "    x, y = batch\n",
    "    x = x.to(device)\n",
    "    y = y.to(device)\n",
    "\n",
    "    x = reshape_batch(x)\n",
    "    washout_list = [int(washout_rate * x.size(0))] * x.size(1)\n",
    "\n",
    "    output, hidden = model(x, washout_list)\n",
    "    tot_obs += x.size(1)\n",
    "    tot_correct += loss_fcn(output[-1], y.type(torch.get_default_dtype()))"
   ]
  },
  {
   "cell_type": "code",
   "execution_count": null,
   "metadata": {},
   "outputs": [],
   "source": [
    "print(\"Test accuracy:\", tot_correct / tot_obs)"
   ]
  },
  {
   "cell_type": "code",
   "execution_count": null,
   "metadata": {},
   "outputs": [],
   "source": [
    "print(\"Ended in\", time.time() - start, \"seconds.\")"
   ]
  },
  {
   "cell_type": "code",
   "execution_count": null,
   "metadata": {},
   "outputs": [],
   "source": []
  }
 ],
 "metadata": {
  "kernelspec": {
   "display_name": "Python 3",
   "language": "python",
   "name": "python3"
  },
  "language_info": {
   "codemirror_mode": {
    "name": "ipython",
    "version": 3
   },
   "file_extension": ".py",
   "mimetype": "text/x-python",
   "name": "python",
   "nbconvert_exporter": "python",
   "pygments_lexer": "ipython3",
   "version": "3.6.5"
  }
 },
 "nbformat": 4,
 "nbformat_minor": 2
}
