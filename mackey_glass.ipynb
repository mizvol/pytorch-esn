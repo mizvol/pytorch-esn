{
 "cells": [
  {
   "cell_type": "code",
   "execution_count": 1,
   "metadata": {},
   "outputs": [],
   "source": [
    "import torch.nn\n",
    "import numpy as np\n",
    "from torchesn.nn import ESN\n",
    "from torchesn import utils\n",
    "import time"
   ]
  },
  {
   "cell_type": "code",
   "execution_count": 2,
   "metadata": {},
   "outputs": [],
   "source": [
    "device = torch.device('cpu')\n",
    "dtype = torch.double\n",
    "torch.set_default_dtype(dtype)"
   ]
  },
  {
   "cell_type": "code",
   "execution_count": 4,
   "metadata": {},
   "outputs": [],
   "source": [
    "if dtype == torch.double:\n",
    "    data = np.loadtxt('examples/datasets/mg17.csv', delimiter=',', dtype=np.float64)\n",
    "elif dtype == torch.float:\n",
    "    data = np.loadtxt('examples/datasets/mg17.csv', delimiter=',', dtype=np.float32)\n",
    "X_data = np.expand_dims(data[:, [0]], axis=1)\n",
    "Y_data = np.expand_dims(data[:, [1]], axis=1)\n",
    "X_data = torch.from_numpy(X_data).to(device)\n",
    "Y_data = torch.from_numpy(Y_data).to(device)"
   ]
  },
  {
   "cell_type": "code",
   "execution_count": 5,
   "metadata": {},
   "outputs": [],
   "source": [
    "trX = X_data[:5000]\n",
    "trY = Y_data[:5000]\n",
    "tsX = X_data[5000:]\n",
    "tsY = Y_data[5000:]"
   ]
  },
  {
   "cell_type": "code",
   "execution_count": 6,
   "metadata": {},
   "outputs": [],
   "source": [
    "washout = [500]\n",
    "input_size = output_size = 1\n",
    "hidden_size = 500\n",
    "loss_fcn = torch.nn.MSELoss()"
   ]
  },
  {
   "cell_type": "code",
   "execution_count": 7,
   "metadata": {},
   "outputs": [],
   "source": [
    "start = time.time()"
   ]
  },
  {
   "cell_type": "code",
   "execution_count": 8,
   "metadata": {},
   "outputs": [
    {
     "name": "stdout",
     "output_type": "stream",
     "text": [
      "Training error: 2.5355775986158652e-11\n"
     ]
    }
   ],
   "source": [
    "# Training\n",
    "trY_flat = utils.prepare_target(trY.clone(), [trX.size(0)], washout)\n",
    "model = ESN(input_size, hidden_size, output_size)\n",
    "model.to(device)\n",
    "model(trX, washout, None, trY_flat)\n",
    "model.fit()\n",
    "output, hidden = model(trX, washout)\n",
    "print(\"Training error:\", loss_fcn(output, trY[washout[0]:]).item())"
   ]
  },
  {
   "cell_type": "code",
   "execution_count": 9,
   "metadata": {},
   "outputs": [
    {
     "name": "stdout",
     "output_type": "stream",
     "text": [
      "Test error: 3.2759047648610915e-11\n",
      "Ended in 45.01115393638611 seconds.\n"
     ]
    }
   ],
   "source": [
    "# Test\n",
    "output, hidden = model(tsX, [0], hidden)\n",
    "print(\"Test error:\", loss_fcn(output, tsY).item())\n",
    "print(\"Ended in\", time.time() - start, \"seconds.\")"
   ]
  },
  {
   "cell_type": "code",
   "execution_count": null,
   "metadata": {},
   "outputs": [],
   "source": []
  }
 ],
 "metadata": {
  "kernelspec": {
   "display_name": "Python 3",
   "language": "python",
   "name": "python3"
  },
  "language_info": {
   "codemirror_mode": {
    "name": "ipython",
    "version": 3
   },
   "file_extension": ".py",
   "mimetype": "text/x-python",
   "name": "python",
   "nbconvert_exporter": "python",
   "pygments_lexer": "ipython3",
   "version": "3.6.5"
  }
 },
 "nbformat": 4,
 "nbformat_minor": 2
}
